{
 "cells": [
  {
   "cell_type": "code",
   "execution_count": null,
   "id": "c4e87d43",
   "metadata": {},
   "outputs": [],
   "source": [
    "from sklearn.feature_selection import SelectFromModel\n",
    "from sklearn import preprocessing\n",
    "from sklearn import utils\n",
    "from sklearn.model_selection import train_test_split\n",
    "from sklearn.linear_model import Lasso\n",
    "from sklearn.linear_model import ElasticNet,SGDRegressor\n",
    "from sklearn.svm import LinearSVR,SVR\n",
    "from sklearn.metrics import r2_score\n",
    "\n",
    "import pandas as pd\n",
    "import numpy as np\n",
    "import textract\n",
    "import os\n",
    "import PyPDF2\n",
    "import pandas as pd\n",
    "from sklearn.feature_extraction.text import CountVectorizer\n",
    "from sklearn.metrics.pairwise import cosine_similarity\n",
    "import re\n",
    "import wordninja\n",
    "import numpy as np\n",
    "import nltk\n",
    "from nltk.corpus import stopwords\n",
    "import re \n",
    "import string\n",
    "import nltk\n",
    "from nltk.stem.porter import PorterStemmer\n",
    "from nltk.stem import WordNetLemmatizer,LancasterStemmer\n",
    "from pyresparser import ResumeParser\n",
    "import warnings\n",
    "import os\n",
    "warnings.filterwarnings(\"ignore\")\n",
    "nltk.download(\"stopwords\")"
   ]
  },
  {
   "cell_type": "code",
   "execution_count": null,
   "id": "da5ff38f",
   "metadata": {},
   "outputs": [],
   "source": [
    "dirs = os.getcwd()"
   ]
  },
  {
   "cell_type": "code",
   "execution_count": null,
   "id": "516ca352",
   "metadata": {},
   "outputs": [],
   "source": [
    "test = pd.read_csv('test.csv')\n",
    "test_ID_files = test['CandidateID']\n",
    "train = pd.read_csv('train.csv')\n",
    "train_ID_files = train['CandidateID']\n",
    "train_percentage = train['Match Percentage']"
   ]
  },
  {
   "cell_type": "code",
   "execution_count": null,
   "id": "baf89a8a",
   "metadata": {},
   "outputs": [],
   "source": [
    "(train_ID_files,train_percentage)"
   ]
  },
  {
   "cell_type": "code",
   "execution_count": null,
   "id": "c8f2654c",
   "metadata": {},
   "outputs": [],
   "source": [
    "def StemWords(word):\n",
    "    stemmer = PorterStemmer()\n",
    "    return stemmer.stem(word)\n",
    "\n",
    "def getPath(filetype,filename):\n",
    "    \n",
    "    path = f'{filetype}/{filename}.pdf'\n",
    "    \n",
    "    full_path = os.path.join(dirs,path)\n",
    "    \n",
    "    return full_path"
   ]
  },
  {
   "cell_type": "code",
   "execution_count": null,
   "id": "b6787fc7",
   "metadata": {},
   "outputs": [],
   "source": [
    "def extract_text(path):\n",
    "    stopWords = set(stopwords.words('english'))\n",
    "    conv_list = []\n",
    "    \n",
    "    text_extracted = textract.process(path)\n",
    "    \n",
    "    text_extracted = text_extracted.decode()\n",
    "    \n",
    "    text_extracted = text_extracted.strip(\"\\r\\n\")\n",
    "    \n",
    "\n",
    "    \n",
    "    for el in text_extracted:\n",
    "        conv_list.append(el.strip())\n",
    "    \n",
    "    strs = \"\".join(conv_list)\n",
    "    \n",
    "    text = wordninja.split(strs)\n",
    "    \n",
    "    content = \" \".join(text).lower()\n",
    "    \n",
    "    content = \" \".join([word for word in content.split() if word not in stopWords])\n",
    "    \n",
    "    text_encoded = content.encode(encoding='ascii',errors='ignore')\n",
    "                \n",
    "    text_decoded = text_encoded.decode()\n",
    "    \n",
    "    text = re.sub(\"@\\S+\", \"\", content)\n",
    "    text = re.sub(\"\\$\", \"\", text)\n",
    "    text = re.sub(\"https?:\\/\\/.*[\\r\\n]*\", \"\", text)\n",
    "    text = re.sub(\"#\", \"\", text)\n",
    "    \n",
    "    punctuation = set(string.punctuation)\n",
    "    text = \"\".join([ch for ch in text if ch not in punctuation])\n",
    "    \n",
    "    words = text.split(\" \")\n",
    "    texts = []\n",
    "    \n",
    "    for word in words:\n",
    "        texts.append(StemWords(word))\n",
    "        \n",
    "    return texts"
   ]
  },
  {
   "cell_type": "code",
   "execution_count": null,
   "id": "22377eef",
   "metadata": {},
   "outputs": [],
   "source": [
    "def read_train_pdf_files(train_ID_files, train_percentage):\n",
    "    #get english stopwords from stopwords library\n",
    "    resumes = []\n",
    "    ids = []\n",
    "    percentages = []\n",
    "    \n",
    "    \n",
    "    for filename in os.listdir(dirs):\n",
    "        if filename == \"trainResumes\":\n",
    "            try:\n",
    "                for file_name,percentage in zip(train_ID_files,train_percentage):\n",
    "                    full_path = getPath(filename,file_name)\n",
    "                    texts = extract_text(full_path)\n",
    "                    resumes.append(\" \".join(texts))\n",
    "                    ids.append(file_name)\n",
    "                    percentages.append(percentage)\n",
    "            except:\n",
    "                print('Something went wrong')\n",
    "    return ids,resumes,percentages\n",
    "\n",
    "\n",
    "def read_test_files(test_ID_files):\n",
    "    resumes = []\n",
    "    ids = []\n",
    "    for filename in zip(test_ID_files):\n",
    "        \n",
    "        full_path = getPath('testResumes',filename)\n",
    "        #the fullpath will be : C:\\Users\\Camara\\Desktop\\Machine Learning Perfect fit\\testResumes/('candidate_014',).pdf\n",
    "        #let's remove the (',') from the path variable\n",
    "        full_path = full_path.replace(\"(\",\"\")\n",
    "        full_path = full_path.replace(\"'\",\"\")\n",
    "        full_path = full_path.replace(\",\",\"\")\n",
    "        full_path = full_path.replace(\")\",\"\")\n",
    "        texts = extract_text(full_path)\n",
    "        ids.append(filename)\n",
    "        resumes.append(texts)\n",
    "    \n",
    "    return ids,resumes"
   ]
  },
  {
   "cell_type": "code",
   "execution_count": null,
   "id": "b39a6215",
   "metadata": {},
   "outputs": [],
   "source": [
    "train_id,train_resumes,train_percentages = read_train_pdf_files(train_ID_files, train_percentage)"
   ]
  },
  {
   "cell_type": "code",
   "execution_count": null,
   "id": "f740db40",
   "metadata": {},
   "outputs": [],
   "source": []
  }
 ],
 "metadata": {
  "kernelspec": {
   "display_name": "Python 3",
   "language": "python",
   "name": "python3"
  },
  "language_info": {
   "codemirror_mode": {
    "name": "ipython",
    "version": 3
   },
   "file_extension": ".py",
   "mimetype": "text/x-python",
   "name": "python",
   "nbconvert_exporter": "python",
   "pygments_lexer": "ipython3",
   "version": "3.8.8"
  }
 },
 "nbformat": 4,
 "nbformat_minor": 5
}
